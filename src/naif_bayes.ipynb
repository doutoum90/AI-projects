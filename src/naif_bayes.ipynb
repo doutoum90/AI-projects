{
 "cells": [
  {
   "cell_type": "code",
   "execution_count": 15,
   "metadata": {},
   "outputs": [],
   "source": [
    "from sklearn.naive_bayes import GaussianNB\n",
    "from sklearn import preprocessing\n",
    "import seaborn as sns\n",
    "import matplotlib.pyplot as plt\n",
    "import numpy as np"
   ]
  },
  {
   "cell_type": "code",
   "execution_count": 16,
   "metadata": {},
   "outputs": [],
   "source": [
    "weather = ['Sunny','Sunny', 'OverCast', 'Rainy', 'Rainy', 'Rainy','OverCast', 'Sunny','Sunny', 'Rainy',\n",
    "    'Sunny', 'OverCast', 'OverCast', 'Rainy']\n",
    "\n",
    "temp = ['Hot', 'Hot', 'Hot', 'Mild', 'Cool', 'Cool', 'Cool', 'Mild', 'Cool', 'Mild', 'Mild', 'Mild', 'Hot', 'Mild']\n",
    "\n",
    "play = ['No', 'No', 'Yes', 'Yes', 'Yes','No', 'Yes', 'No', 'Yes', 'Yes', 'Yes', 'Yes', 'Yes', 'No']"
   ]
  },
  {
   "cell_type": "code",
   "execution_count": 17,
   "metadata": {},
   "outputs": [
    {
     "name": "stdout",
     "output_type": "stream",
     "text": [
      "Weather : [2 2 0 1 1 1 0 2 2 1 2 0 0 1]\n",
      "Temperature : [1 1 1 2 0 0 0 2 0 2 2 2 1 2]\n",
      "features : [[2 1]\n",
      " [2 1]\n",
      " [0 1]\n",
      " [1 2]\n",
      " [1 0]\n",
      " [1 0]\n",
      " [0 0]\n",
      " [2 2]\n",
      " [2 0]\n",
      " [1 2]\n",
      " [2 2]\n",
      " [0 2]\n",
      " [0 1]\n",
      " [1 2]]\n",
      "labels : [0 0 1 1 1 0 1 0 1 1 1 1 1 0]\n"
     ]
    }
   ],
   "source": [
    "le = preprocessing.LabelEncoder()\n",
    "weather_encoded = le.fit_transform(weather)\n",
    "temp_encoded = le.fit_transform(temp)\n",
    "print('Weather :', weather_encoded)\n",
    "print('Temperature :', temp_encoded)\n",
    "labels = le.fit_transform(play)\n",
    "\n",
    "features = np.column_stack((weather_encoded, temp_encoded))\n",
    "print('features :', features)\n",
    "print('labels :', labels)"
   ]
  },
  {
   "cell_type": "code",
   "execution_count": 19,
   "metadata": {},
   "outputs": [
    {
     "name": "stdout",
     "output_type": "stream",
     "text": [
      "predicted value :  [1]\n"
     ]
    }
   ],
   "source": [
    "g_naive_bayes_model = GaussianNB()\n",
    "g_naive_bayes_model.fit(features, labels)\n",
    "predicted = g_naive_bayes_model.predict([[0, 2]])\n",
    "print('predicted value : ', predicted)"
   ]
  }
 ],
 "metadata": {
  "kernelspec": {
   "display_name": "Python 3",
   "language": "python",
   "name": "python3"
  },
  "language_info": {
   "codemirror_mode": {
    "name": "ipython",
    "version": 3
   },
   "file_extension": ".py",
   "mimetype": "text/x-python",
   "name": "python",
   "nbconvert_exporter": "python",
   "pygments_lexer": "ipython3",
   "version": "3.7.9"
  }
 },
 "nbformat": 4,
 "nbformat_minor": 4
}
