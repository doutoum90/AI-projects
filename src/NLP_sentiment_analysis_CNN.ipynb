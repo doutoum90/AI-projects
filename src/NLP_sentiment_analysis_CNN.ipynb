{
 "cells": [
  {
   "cell_type": "code",
   "execution_count": 6,
   "metadata": {},
   "outputs": [],
   "source": [
    "import pandas as pd\n",
    "import numpy as np\n",
    "import re\n",
    "import nltk\n",
    "from nltk.corpus import stopwords\n",
    "\n",
    "from tensorflow.keras.models import Sequential, Model\n",
    "from tensorflow.keras.layers import Activation, LSTM, Dropout, Dense, Flatten, Embedding, Conv1D, Input\n",
    "from sklearn.model_selection import train_test_split\n",
    "from tensorflow.keras.preprocessing.text import Tokenizer, one_hot\n",
    "from tensorflow.keras.preprocessing.sequence import pad_sequences"
   ]
  },
  {
   "cell_type": "code",
   "execution_count": 7,
   "metadata": {},
   "outputs": [
    {
     "data": {
      "text/html": [
       "<div>\n",
       "<style scoped>\n",
       "    .dataframe tbody tr th:only-of-type {\n",
       "        vertical-align: middle;\n",
       "    }\n",
       "\n",
       "    .dataframe tbody tr th {\n",
       "        vertical-align: top;\n",
       "    }\n",
       "\n",
       "    .dataframe thead th {\n",
       "        text-align: right;\n",
       "    }\n",
       "</style>\n",
       "<table border=\"1\" class=\"dataframe\">\n",
       "  <thead>\n",
       "    <tr style=\"text-align: right;\">\n",
       "      <th></th>\n",
       "      <th>review</th>\n",
       "      <th>sentiment</th>\n",
       "    </tr>\n",
       "  </thead>\n",
       "  <tbody>\n",
       "    <tr>\n",
       "      <th>0</th>\n",
       "      <td>One of the other reviewers has mentioned that ...</td>\n",
       "      <td>positive</td>\n",
       "    </tr>\n",
       "    <tr>\n",
       "      <th>1</th>\n",
       "      <td>A wonderful little production. &lt;br /&gt;&lt;br /&gt;The...</td>\n",
       "      <td>positive</td>\n",
       "    </tr>\n",
       "    <tr>\n",
       "      <th>2</th>\n",
       "      <td>I thought this was a wonderful way to spend ti...</td>\n",
       "      <td>positive</td>\n",
       "    </tr>\n",
       "    <tr>\n",
       "      <th>3</th>\n",
       "      <td>Basically there's a family where a little boy ...</td>\n",
       "      <td>negative</td>\n",
       "    </tr>\n",
       "    <tr>\n",
       "      <th>4</th>\n",
       "      <td>Petter Mattei's \"Love in the Time of Money\" is...</td>\n",
       "      <td>positive</td>\n",
       "    </tr>\n",
       "  </tbody>\n",
       "</table>\n",
       "</div>"
      ],
      "text/plain": [
       "                                              review sentiment\n",
       "0  One of the other reviewers has mentioned that ...  positive\n",
       "1  A wonderful little production. <br /><br />The...  positive\n",
       "2  I thought this was a wonderful way to spend ti...  positive\n",
       "3  Basically there's a family where a little boy ...  negative\n",
       "4  Petter Mattei's \"Love in the Time of Money\" is...  positive"
      ]
     },
     "execution_count": 7,
     "metadata": {},
     "output_type": "execute_result"
    }
   ],
   "source": [
    "imdb_data = pd.read_csv('../data/IMDBDataset.csv')\n",
    "imdb_data.head()"
   ]
  },
  {
   "cell_type": "code",
   "execution_count": 8,
   "metadata": {},
   "outputs": [
    {
     "data": {
      "text/plain": [
       "negative    25000\n",
       "positive    25000\n",
       "Name: sentiment, dtype: int64"
      ]
     },
     "execution_count": 8,
     "metadata": {},
     "output_type": "execute_result"
    }
   ],
   "source": [
    "imdb_data.sentiment.value_counts()"
   ]
  },
  {
   "cell_type": "code",
   "execution_count": 9,
   "metadata": {},
   "outputs": [
    {
     "data": {
      "text/plain": [
       "(50000, 1)"
      ]
     },
     "execution_count": 9,
     "metadata": {},
     "output_type": "execute_result"
    }
   ],
   "source": [
    "X = imdb_data['review']\n",
    "y = pd.get_dummies(imdb_data.sentiment, prefix='sent', drop_first=True).values\n",
    "y.shape"
   ]
  },
  {
   "cell_type": "code",
   "execution_count": 10,
   "metadata": {},
   "outputs": [],
   "source": [
    "def clean_text(doc):\n",
    "    document = remove_tags(doc)\n",
    "    \n",
    "    document = re.sub('[^a-zA-Z]', ' ', document)\n",
    "    \n",
    "    document = re.sub(r'\\s+[^a-zA-Z]\\s+', ' ', document)\n",
    "    \n",
    "    document = re.sub(r'\\s+', ' ', document)\n",
    "    \n",
    "    return document\n",
    "\n",
    "TAG_RE = re.compile(r'<[^>]+>')\n",
    "\n",
    "def remove_tags(document):\n",
    "    return TAG_RE.sub('', document)"
   ]
  },
  {
   "cell_type": "code",
   "execution_count": 11,
   "metadata": {},
   "outputs": [],
   "source": [
    "X_sentences = []\n",
    "reviews = list()\n",
    "\n",
    "for rev in X:\n",
    "    X_sentences.append(clean_text(rev))"
   ]
  },
  {
   "cell_type": "code",
   "execution_count": 12,
   "metadata": {},
   "outputs": [],
   "source": [
    "X_train, X_test, y_train, y_test = train_test_split(X_sentences, y, test_size=0.2, random_state=42)"
   ]
  },
  {
   "cell_type": "code",
   "execution_count": 13,
   "metadata": {},
   "outputs": [],
   "source": [
    "tokenizer = Tokenizer(num_words=5000)\n",
    "tokenizer.fit_on_texts(X_train)\n",
    "X_train = tokenizer.texts_to_sequences(X_train)\n",
    "X_test = tokenizer.texts_to_sequences(X_test)"
   ]
  },
  {
   "cell_type": "code",
   "execution_count": 14,
   "metadata": {},
   "outputs": [],
   "source": [
    "vocabulary_size = len(tokenizer.word_index) + 1\n",
    "maxlen = 100\n",
    "X_train = pad_sequences(X_train, padding='post', maxlen=maxlen)\n",
    "X_test = pad_sequences(X_test, padding='post', maxlen=maxlen)"
   ]
  },
  {
   "cell_type": "code",
   "execution_count": 15,
   "metadata": {},
   "outputs": [],
   "source": [
    "embedded_dict = dict()\n",
    "glove_embeddings = open('../data/glove.6B.100d.txt', encoding='utf-8')"
   ]
  },
  {
   "cell_type": "code",
   "execution_count": 16,
   "metadata": {},
   "outputs": [],
   "source": [
    "for embeddings in glove_embeddings:\n",
    "    embeddings_tokens = embeddings.split()\n",
    "    emb_word = embeddings_tokens[0]\n",
    "    emb_vector = np.asarray(embeddings_tokens[1:], dtype='float32')\n",
    "    embedded_dict[emb_word] = emb_vector\n",
    "glove_embeddings.close()"
   ]
  },
  {
   "cell_type": "code",
   "execution_count": 17,
   "metadata": {},
   "outputs": [
    {
     "data": {
      "text/plain": [
       "(92547, 100)"
      ]
     },
     "execution_count": 17,
     "metadata": {},
     "output_type": "execute_result"
    }
   ],
   "source": [
    "embedd_mat = np.zeros((vocabulary_size, 100))\n",
    "for word, index in tokenizer.word_index.items():\n",
    "    embedding_vector = embedded_dict.get(word)\n",
    "    if embedding_vector is not None:\n",
    "        embedd_mat[index] = embedding_vector\n",
    "embedd_mat.shape"
   ]
  },
  {
   "cell_type": "code",
   "execution_count": 18,
   "metadata": {},
   "outputs": [],
   "source": [
    "def enbedded_model():\n",
    "    embedding_inputs = Input(shape=(maxlen))\n",
    "    embedding_layer = Embedding(vocabulary_size, 100, weights=[embedd_mat], trainable=False)(embedding_inputs)\n",
    "    \n",
    "    conv1 = Conv1D(128, 3, strides=2, activation='relu')(embedding_layer)\n",
    "    conv2 = Conv1D(64, 3, strides=2, activation='relu')(conv1)\n",
    "    \n",
    "    flatten_layer = Flatten()(conv2)\n",
    "    \n",
    "    drop1 = Dropout(0.2)(flatten_layer)\n",
    "\n",
    "    dense1 = Dense(512, activation='relu')(drop1)\n",
    "    drop2 = Dropout(0.2)(dense1)\n",
    "    \n",
    "\n",
    "    output_layer = Dense(1, activation='sigmoid')(drop2)\n",
    "    return Model(inputs=embedding_inputs, outputs=output_layer)\n",
    "\n",
    "model = enbedded_model()"
   ]
  },
  {
   "cell_type": "code",
   "execution_count": 19,
   "metadata": {},
   "outputs": [
    {
     "name": "stdout",
     "output_type": "stream",
     "text": [
      "Model: \"model\"\n",
      "_________________________________________________________________\n",
      "Layer (type)                 Output Shape              Param #   \n",
      "=================================================================\n",
      "input_1 (InputLayer)         [(None, 100)]             0         \n",
      "_________________________________________________________________\n",
      "embedding (Embedding)        (None, 100, 100)          9254700   \n",
      "_________________________________________________________________\n",
      "conv1d (Conv1D)              (None, 49, 128)           38528     \n",
      "_________________________________________________________________\n",
      "conv1d_1 (Conv1D)            (None, 24, 64)            24640     \n",
      "_________________________________________________________________\n",
      "flatten (Flatten)            (None, 1536)              0         \n",
      "_________________________________________________________________\n",
      "dropout (Dropout)            (None, 1536)              0         \n",
      "_________________________________________________________________\n",
      "dense (Dense)                (None, 512)               786944    \n",
      "_________________________________________________________________\n",
      "dropout_1 (Dropout)          (None, 512)               0         \n",
      "_________________________________________________________________\n",
      "dense_1 (Dense)              (None, 1)                 513       \n",
      "=================================================================\n",
      "Total params: 10,105,325\n",
      "Trainable params: 850,625\n",
      "Non-trainable params: 9,254,700\n",
      "_________________________________________________________________\n"
     ]
    }
   ],
   "source": [
    "model.compile(optimizer='adam', loss='binary_crossentropy', metrics=['acc'])\n",
    "model.summary()"
   ]
  },
  {
   "cell_type": "code",
   "execution_count": 20,
   "metadata": {},
   "outputs": [
    {
     "name": "stdout",
     "output_type": "stream",
     "text": [
      "Epoch 1/10\n",
      "500/500 [==============================] - 7s 13ms/step - loss: 0.6118 - acc: 0.6386 - val_loss: 0.4245 - val_acc: 0.7975\n",
      "Epoch 2/10\n",
      "500/500 [==============================] - 7s 14ms/step - loss: 0.4130 - acc: 0.8086 - val_loss: 0.3935 - val_acc: 0.8174\n",
      "Epoch 3/10\n",
      "500/500 [==============================] - 8s 15ms/step - loss: 0.3546 - acc: 0.8420 - val_loss: 0.3897 - val_acc: 0.8221\n",
      "Epoch 4/10\n",
      "500/500 [==============================] - 7s 14ms/step - loss: 0.3139 - acc: 0.8601 - val_loss: 0.3998 - val_acc: 0.8225\n",
      "Epoch 5/10\n",
      "500/500 [==============================] - 7s 14ms/step - loss: 0.2587 - acc: 0.8893 - val_loss: 0.4045 - val_acc: 0.8267\n",
      "Epoch 6/10\n",
      "500/500 [==============================] - 6s 12ms/step - loss: 0.2083 - acc: 0.9142 - val_loss: 0.4618 - val_acc: 0.8191\n",
      "Epoch 7/10\n",
      "500/500 [==============================] - 6s 13ms/step - loss: 0.1670 - acc: 0.9322 - val_loss: 0.4814 - val_acc: 0.8166\n",
      "Epoch 8/10\n",
      "500/500 [==============================] - 6s 12ms/step - loss: 0.1394 - acc: 0.9427 - val_loss: 0.5837 - val_acc: 0.8091\n",
      "Epoch 9/10\n",
      "500/500 [==============================] - 6s 13ms/step - loss: 0.1183 - acc: 0.9542 - val_loss: 0.5724 - val_acc: 0.8190\n",
      "Epoch 10/10\n",
      "500/500 [==============================] - 7s 13ms/step - loss: 0.0950 - acc: 0.9630 - val_loss: 0.6372 - val_acc: 0.8127\n",
      "313/313 [==============================] - 1s 4ms/step - loss: 0.6133 - acc: 0.8139\n"
     ]
    }
   ],
   "source": [
    "history = model.fit(X_train, y_train, batch_size=64, epochs=10, verbose=1, validation_split=0.2)\n",
    "score = model.evaluate(X_test, y_test, verbose=1)"
   ]
  },
  {
   "cell_type": "code",
   "execution_count": 21,
   "metadata": {},
   "outputs": [
    {
     "name": "stdout",
     "output_type": "stream",
     "text": [
      "0.6133042573928833\n",
      "0.8138999938964844\n"
     ]
    }
   ],
   "source": [
    "print(score[0])\n",
    "print(score[1])"
   ]
  }
 ],
 "metadata": {
  "kernelspec": {
   "display_name": "Python 3",
   "language": "python",
   "name": "python3"
  },
  "language_info": {
   "codemirror_mode": {
    "name": "ipython",
    "version": 3
   },
   "file_extension": ".py",
   "mimetype": "text/x-python",
   "name": "python",
   "nbconvert_exporter": "python",
   "pygments_lexer": "ipython3",
   "version": "3.7.9"
  }
 },
 "nbformat": 4,
 "nbformat_minor": 4
}
