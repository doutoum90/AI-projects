{
 "cells": [
  {
   "cell_type": "code",
   "execution_count": 1,
   "metadata": {},
   "outputs": [],
   "source": [
    "import matplotlib.pyplot as plt\n",
    "import tensorflow as tf\n",
    "import numpy as np\n",
    "import pandas as pd\n",
    "from sklearn.preprocessing import StandardScaler\n",
    "from sklearn.model_selection import train_test_split"
   ]
  },
  {
   "cell_type": "code",
   "execution_count": 2,
   "metadata": {},
   "outputs": [
    {
     "name": "stdout",
     "output_type": "stream",
     "text": [
      "(800, 784) (800,)\n"
     ]
    }
   ],
   "source": [
    "fashion_mnist = tf.keras.datasets.fashion_mnist\n",
    "\n",
    "(images,targets), (_, _) = fashion_mnist.load_data()\n",
    "\n",
    "\n",
    "images = images[0: 1000]\n",
    "targets = targets[0: 1000]\n",
    "\n",
    "images = images.reshape(-1, 784)\n",
    "images = images.astype(float)\n",
    "\n",
    "scaller = StandardScaler()\n",
    "images = scaller.fit_transform(images)\n",
    "\n",
    "\n",
    "images_train, images_test, targets_train, targets_test = train_test_split(images, targets, test_size=0.2, random_state=1)\n",
    "\n",
    "print(images_train.shape, targets_train.shape)"
   ]
  },
  {
   "cell_type": "code",
   "execution_count": 3,
   "metadata": {},
   "outputs": [],
   "source": [
    "targets_names = [\"T-shirt/top\", \"Trouser\", \"Pullover\", \"Dress\", \"Coat\", \"Sandal\",\"Shirt\",\"Sneaker\",\"Bag\",\"Ankle boot\"]\n"
   ]
  },
  {
   "cell_type": "code",
   "execution_count": 4,
   "metadata": {},
   "outputs": [],
   "source": [
    "# plt.imshow(images[2], cmap=\"binary\")\n",
    "# plt.title(targets_names[targets[2]])\n",
    "# plt.show()"
   ]
  },
  {
   "cell_type": "code",
   "execution_count": 5,
   "metadata": {},
   "outputs": [],
   "source": [
    "from tensorflow import keras\n",
    "model = tf.keras.models.Sequential()\n",
    "\"\"\"\n",
    "model = keras.Sequential([\n",
    "    keras.layers.Flatten(input_shape=(28,28)),\n",
    "    # keras.layers.Dense(256, activation='relu')\n",
    "    keras.layers.Dense(128, activation='relu'),\n",
    "    keras.layers.Dense(10, activation='softmax')\n",
    "])\n",
    "\"\"\"\n",
    "\n",
    "#model.add(tf.keras.layers.Flatten(input_shape=[28,28]))\n",
    "\n",
    "model.add(tf.keras.layers.Dense(784, activation='relu'))\n",
    "model.add(tf.keras.layers.Dense(128, activation='relu'))\n",
    "model.add(tf.keras.layers.Dense(10, activation='softmax'))\n",
    "\n",
    "# model_output = model.predict(images[0])"
   ]
  },
  {
   "cell_type": "code",
   "execution_count": 6,
   "metadata": {},
   "outputs": [
    {
     "name": "stdout",
     "output_type": "stream",
     "text": [
      "Model: \"sequential\"\n",
      "_________________________________________________________________\n",
      "Layer (type)                 Output Shape              Param #   \n",
      "=================================================================\n",
      "dense (Dense)                (800, 784)                615440    \n",
      "_________________________________________________________________\n",
      "dense_1 (Dense)              (800, 128)                100480    \n",
      "_________________________________________________________________\n",
      "dense_2 (Dense)              (800, 10)                 1290      \n",
      "=================================================================\n",
      "Total params: 717,210\n",
      "Trainable params: 717,210\n",
      "Non-trainable params: 0\n",
      "_________________________________________________________________\n"
     ]
    }
   ],
   "source": [
    "model.build(images_train.shape)\n",
    "model.summary()"
   ]
  },
  {
   "cell_type": "code",
   "execution_count": 7,
   "metadata": {},
   "outputs": [],
   "source": [
    "model.compile(\n",
    "    loss='sparse_categorical_crossentropy',\n",
    "    optimizer='sgd',\n",
    "    metrics=['accuracy']\n",
    ")"
   ]
  },
  {
   "cell_type": "code",
   "execution_count": 8,
   "metadata": {},
   "outputs": [
    {
     "name": "stdout",
     "output_type": "stream",
     "text": [
      "(800, 784) (800,)\n",
      "Epoch 1/10\n",
      "20/20 [==============================] - 1s 37ms/step - loss: 2.0886 - accuracy: 0.2933 - val_loss: 1.1483 - val_accuracy: 0.6438\n",
      "Epoch 2/10\n",
      "20/20 [==============================] - 0s 5ms/step - loss: 1.0456 - accuracy: 0.7202 - val_loss: 0.9653 - val_accuracy: 0.6625\n",
      "Epoch 3/10\n",
      "20/20 [==============================] - 0s 3ms/step - loss: 0.7717 - accuracy: 0.7760 - val_loss: 0.9000 - val_accuracy: 0.6750\n",
      "Epoch 4/10\n",
      "20/20 [==============================] - 0s 3ms/step - loss: 0.6619 - accuracy: 0.7802 - val_loss: 0.8572 - val_accuracy: 0.7000\n",
      "Epoch 5/10\n",
      "20/20 [==============================] - 0s 4ms/step - loss: 0.5305 - accuracy: 0.8526 - val_loss: 0.8165 - val_accuracy: 0.7000\n",
      "Epoch 6/10\n",
      "20/20 [==============================] - 0s 3ms/step - loss: 0.4944 - accuracy: 0.8618 - val_loss: 0.7909 - val_accuracy: 0.7000\n",
      "Epoch 7/10\n",
      "20/20 [==============================] - 0s 3ms/step - loss: 0.4483 - accuracy: 0.8857 - val_loss: 0.7687 - val_accuracy: 0.7000\n",
      "Epoch 8/10\n",
      "20/20 [==============================] - 0s 3ms/step - loss: 0.4154 - accuracy: 0.8912 - val_loss: 0.7545 - val_accuracy: 0.7188\n",
      "Epoch 9/10\n",
      "20/20 [==============================] - 0s 3ms/step - loss: 0.3660 - accuracy: 0.9150 - val_loss: 0.7458 - val_accuracy: 0.7125\n",
      "Epoch 10/10\n",
      "20/20 [==============================] - 0s 3ms/step - loss: 0.3276 - accuracy: 0.9329 - val_loss: 0.7339 - val_accuracy: 0.7375\n"
     ]
    }
   ],
   "source": [
    "print(images_train.shape, targets_train.shape)\n",
    "history = model.fit(images_train, targets_train, epochs=10, validation_split=0.2)"
   ]
  },
  {
   "cell_type": "code",
   "execution_count": 9,
   "metadata": {},
   "outputs": [
    {
     "data": {
      "image/png": "[encoded data removed]",
      "text/plain": [
       "<Figure size 432x288 with 1 Axes>"
      ]
     },
     "metadata": {
      "needs_background": "light"
     },
     "output_type": "display_data"
    },
    {
     "data": {
      "image/png": "[encoded data removed]",
      "text/plain": [
       "<Figure size 432x288 with 1 Axes>"
      ]
     },
     "metadata": {
      "needs_background": "light"
     },
     "output_type": "display_data"
    }
   ],
   "source": [
    "loss_curve = history.history['loss']\n",
    "acc_curve = history.history['accuracy']\n",
    "                      \n",
    "loss_val_curve = history.history['val_loss']\n",
    "acc_val_curve = history.history['val_accuracy']\n",
    "\n",
    "plt.plot(loss_curve, label='train')\n",
    "plt.plot(loss_val_curve, label='validation')\n",
    "plt.plot('Loss')\n",
    "plt.show()\n",
    "\n",
    "plt.plot(acc_curve, label='train')\n",
    "plt.plot(acc_val_curve, label='validation')\n",
    "plt.plot('Acuracy')\n",
    "plt.show()\n"
   ]
  },
  {
   "cell_type": "code",
   "execution_count": 10,
   "metadata": {},
   "outputs": [],
   "source": [
    "model.save('../models/simple_nn.h5')"
   ]
  },
  {
   "cell_type": "code",
   "execution_count": null,
   "metadata": {},
   "outputs": [],
   "source": []
  },
  {
   "cell_type": "code",
   "execution_count": null,
   "metadata": {},
   "outputs": [],
   "source": []
  }
 ],
 "metadata": {
  "kernelspec": {
   "display_name": "Python 3",
   "language": "python",
   "name": "python3"
  },
  "language_info": {
   "codemirror_mode": {
    "name": "ipython",
    "version": 3
   },
   "file_extension": ".py",
   "mimetype": "text/x-python",
   "name": "python",
   "nbconvert_exporter": "python",
   "pygments_lexer": "ipython3",
   "version": "3.7.9"
  }
 },
 "nbformat": 4,
 "nbformat_minor": 4
}
