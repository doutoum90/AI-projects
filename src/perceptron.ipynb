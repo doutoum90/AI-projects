{
 "cells": [
  {
   "cell_type": "code",
   "execution_count": 28,
   "metadata": {},
   "outputs": [],
   "source": [
    "import matplotlib.pyplot as plt\n",
    "import tensorflow as tf\n",
    "import numpy as np\n",
    "import pandas as pd\n",
    "from sklearn.preprocessing import StandardScaler\n",
    "from sklearn.model_selection import train_test_split"
   ]
  },
  {
   "cell_type": "code",
   "execution_count": 29,
   "metadata": {},
   "outputs": [
    {
     "name": "stdout",
     "output_type": "stream",
     "text": [
      "(800, 784) (800,)\n"
     ]
    }
   ],
   "source": [
    "fashion_mnist = tf.keras.datasets.fashion_mnist\n",
    "\n",
    "(images,targets), (_, _) = fashion_mnist.load_data()\n",
    "\n",
    "\n",
    "images = images[0: 1000]\n",
    "targets = targets[0: 1000]\n",
    "\n",
    "images = images.reshape(-1, 784)\n",
    "images = images.astype(float)\n",
    "\n",
    "scaller = StandardScaler()\n",
    "images = scaller.fit_transform(images)\n",
    "\n",
    "\n",
    "images_train, images_test, targets_train, targets_test = train_test_split(images, targets, test_size=0.2, random_state=1)\n",
    "\n",
    "print(images_train.shape, targets_train.shape)"
   ]
  },
  {
   "cell_type": "code",
   "execution_count": 30,
   "metadata": {},
   "outputs": [],
   "source": [
    "targets_names = [\"T-shirt/top\", \"Trouser\", \"Pullover\", \"Dress\", \"Coat\", \"Sandal\",\"Shirt\",\"Sneaker\",\"Bag\",\"Ankle boot\"]\n"
   ]
  },
  {
   "cell_type": "code",
   "execution_count": 31,
   "metadata": {},
   "outputs": [],
   "source": [
    "# plt.imshow(images[2], cmap=\"binary\")\n",
    "# plt.title(targets_names[targets[2]])\n",
    "# plt.show()"
   ]
  },
  {
   "cell_type": "code",
   "execution_count": 32,
   "metadata": {},
   "outputs": [],
   "source": [
    "from tensorflow import keras\n",
    "model = tf.keras.models.Sequential()\n",
    "\"\"\"\n",
    "model = keras.Sequential([\n",
    "    keras.layers.Flatten(input_shape=(28,28)),\n",
    "    # keras.layers.Dense(256, activation='relu')\n",
    "    keras.layers.Dense(128, activation='relu'),\n",
    "    keras.layers.Dense(10, activation='softmax')\n",
    "])\n",
    "\"\"\"\n",
    "\n",
    "#model.add(tf.keras.layers.Flatten(input_shape=[28,28]))\n",
    "\n",
    "model.add(tf.keras.layers.Dense(784, activation='relu'))\n",
    "model.add(tf.keras.layers.Dense(128, activation='relu'))\n",
    "model.add(tf.keras.layers.Dense(10, activation='softmax'))\n",
    "\n",
    "# model_output = model.predict(images[0])"
   ]
  },
  {
   "cell_type": "code",
   "execution_count": 37,
   "metadata": {},
   "outputs": [
    {
     "name": "stdout",
     "output_type": "stream",
     "text": [
      "Model: \"sequential_4\"\n",
      "_________________________________________________________________\n",
      "Layer (type)                 Output Shape              Param #   \n",
      "=================================================================\n",
      "dense_12 (Dense)             multiple                  615440    \n",
      "_________________________________________________________________\n",
      "dense_13 (Dense)             multiple                  100480    \n",
      "_________________________________________________________________\n",
      "dense_14 (Dense)             multiple                  1290      \n",
      "=================================================================\n",
      "Total params: 717,210\n",
      "Trainable params: 717,210\n",
      "Non-trainable params: 0\n",
      "_________________________________________________________________\n"
     ]
    }
   ],
   "source": [
    "model.build(images_train.shape)\n",
    "model.summary()"
   ]
  },
  {
   "cell_type": "code",
   "execution_count": 38,
   "metadata": {},
   "outputs": [],
   "source": [
    "model.compile(\n",
    "    loss='sparse_categorical_crossentropy',\n",
    "    optimizer='sgd',\n",
    "    metrics=['accuracy']\n",
    ")"
   ]
  },
  {
   "cell_type": "code",
   "execution_count": 39,
   "metadata": {},
   "outputs": [
    {
     "name": "stdout",
     "output_type": "stream",
     "text": [
      "(800, 784) (800,)\n",
      "Train on 640 samples, validate on 160 samples\n",
      "Epoch 1/10\n",
      "640/640 [==============================] - 1s 1ms/sample - loss: 1.7025 - accuracy: 0.4453 - val_loss: 1.1920 - val_accuracy: 0.6125\n",
      "Epoch 2/10\n",
      "640/640 [==============================] - 0s 221us/sample - loss: 0.9727 - accuracy: 0.7031 - val_loss: 0.9507 - val_accuracy: 0.6500\n",
      "Epoch 3/10\n",
      "640/640 [==============================] - 0s 244us/sample - loss: 0.7446 - accuracy: 0.7844 - val_loss: 0.8588 - val_accuracy: 0.6687\n",
      "Epoch 4/10\n",
      "640/640 [==============================] - 0s 216us/sample - loss: 0.6174 - accuracy: 0.8172 - val_loss: 0.8107 - val_accuracy: 0.6750\n",
      "Epoch 5/10\n",
      "640/640 [==============================] - 0s 205us/sample - loss: 0.5342 - accuracy: 0.8484 - val_loss: 0.7731 - val_accuracy: 0.7312\n",
      "Epoch 6/10\n",
      "640/640 [==============================] - 0s 209us/sample - loss: 0.4686 - accuracy: 0.8703 - val_loss: 0.7458 - val_accuracy: 0.7125\n",
      "Epoch 7/10\n",
      "640/640 [==============================] - 0s 205us/sample - loss: 0.4183 - accuracy: 0.8875 - val_loss: 0.7218 - val_accuracy: 0.7437\n",
      "Epoch 8/10\n",
      "640/640 [==============================] - 0s 196us/sample - loss: 0.3774 - accuracy: 0.8984 - val_loss: 0.7147 - val_accuracy: 0.7437\n",
      "Epoch 9/10\n",
      "640/640 [==============================] - 0s 201us/sample - loss: 0.3434 - accuracy: 0.9109 - val_loss: 0.6827 - val_accuracy: 0.7375\n",
      "Epoch 10/10\n",
      "640/640 [==============================] - 0s 201us/sample - loss: 0.3140 - accuracy: 0.9234 - val_loss: 0.6801 - val_accuracy: 0.7625\n"
     ]
    }
   ],
   "source": [
    "print(images_train.shape, targets_train.shape)\n",
    "history = model.fit(images_train, targets_train, epochs=10, validation_split=0.2)"
   ]
  },
  {
   "cell_type": "code",
   "execution_count": 40,
   "metadata": {},
   "outputs": [
    {
     "data": {
      "image/png": "[encoded data removed]",
      "text/plain": [
       "<Figure size 432x288 with 1 Axes>"
      ]
     },
     "metadata": {
      "needs_background": "light"
     },
     "output_type": "display_data"
    },
    {
     "data": {
      "image/png": "[encoded data removed]",
      "text/plain": [
       "<Figure size 432x288 with 1 Axes>"
      ]
     },
     "metadata": {
      "needs_background": "light"
     },
     "output_type": "display_data"
    }
   ],
   "source": [
    "loss_curve = history.history['loss']\n",
    "acc_curve = history.history['accuracy']\n",
    "                      \n",
    "loss_val_curve = history.history['val_loss']\n",
    "acc_val_curve = history.history['val_accuracy']\n",
    "\n",
    "plt.plot(loss_curve, label='train')\n",
    "plt.plot(loss_val_curve, label='validation')\n",
    "plt.plot('Loss')\n",
    "plt.show()\n",
    "\n",
    "plt.plot(acc_curve, label='train')\n",
    "plt.plot(acc_val_curve, label='validation')\n",
    "plt.plot('Acuracy')\n",
    "plt.show()\n"
   ]
  },
  {
   "cell_type": "code",
   "execution_count": 41,
   "metadata": {},
   "outputs": [],
   "source": [
    "model.save('simple_nn.h5')"
   ]
  },
  {
   "cell_type": "code",
   "execution_count": null,
   "metadata": {},
   "outputs": [],
   "source": []
  },
  {
   "cell_type": "code",
   "execution_count": null,
   "metadata": {},
   "outputs": [],
   "source": []
  }
 ],
 "metadata": {
  "kernelspec": {
   "display_name": "Python 3",
   "language": "python",
   "name": "python3"
  },
  "language_info": {
   "codemirror_mode": {
    "name": "ipython",
    "version": 3
   },
   "file_extension": ".py",
   "mimetype": "text/x-python",
   "name": "python",
   "nbconvert_exporter": "python",
   "pygments_lexer": "ipython3",
   "version": "3.7.9"
  }
 },
 "nbformat": 4,
 "nbformat_minor": 4
}
