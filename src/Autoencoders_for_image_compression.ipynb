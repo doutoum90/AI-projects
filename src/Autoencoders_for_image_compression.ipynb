{
 "cells": [
  {
   "cell_type": "code",
   "execution_count": 1,
   "metadata": {},
   "outputs": [],
   "source": [
    "import pandas as pd\n",
    "import numpy as np\n",
    "import re\n",
    "import nltk\n",
    "from nltk.corpus import stopwords\n",
    "\n",
    "from tensorflow.keras.models import Sequential, Model\n",
    "from tensorflow.keras.layers import Activation, LSTM, Dropout, Dense, Flatten, Embedding, Conv1D, Input\n",
    "from tensorflow.keras.preprocessing.text import Tokenizer, one_hot\n",
    "from tensorflow.keras import regularizers\n",
    "from sklearn.model_selection import train_test_split\n",
    "from sklearn.metrics import recall_score, classification_report, auc, roc_curve, accuracy_score"
   ]
  },
  {
   "cell_type": "code",
   "execution_count": 2,
   "metadata": {},
   "outputs": [
    {
     "name": "stdout",
     "output_type": "stream",
     "text": [
      "Downloading data from https://storage.googleapis.com/tensorflow/tf-keras-datasets/mnist.npz\n",
      "11493376/11490434 [==============================] - 3s 0us/step\n",
      "(60000, 28, 28)\n",
      "(10000, 28, 28)\n"
     ]
    }
   ],
   "source": [
    "from keras.datasets import mnist\n",
    "import numpy as np\n",
    "(train_images, _), (test_images, _) = mnist.load_data()\n",
    "print(train_images.shape)\n",
    "print(test_images.shape)"
   ]
  },
  {
   "cell_type": "code",
   "execution_count": 3,
   "metadata": {},
   "outputs": [
    {
     "name": "stdout",
     "output_type": "stream",
     "text": [
      "(60000, 784)\n",
      "(10000, 784)\n"
     ]
    }
   ],
   "source": [
    "train_images = train_images.astype('float32') / 255\n",
    "test_images = test_images.astype('float32') / 255\n",
    "\n",
    "train_images = train_images.reshape((len(train_images), np.prod(train_images.shape[1:])))\n",
    "test_images = test_images.reshape((len(test_images), np.prod(test_images.shape[1:])))\n",
    "\n",
    "print(train_images.shape)\n",
    "print(test_images.shape)"
   ]
  },
  {
   "cell_type": "code",
   "execution_count": 6,
   "metadata": {},
   "outputs": [
    {
     "name": "stdout",
     "output_type": "stream",
     "text": [
      "Model: \"model_5\"\n",
      "_________________________________________________________________\n",
      "Layer (type)                 Output Shape              Param #   \n",
      "=================================================================\n",
      "input_5 (InputLayer)         [(None, 784)]             0         \n",
      "_________________________________________________________________\n",
      "dense_4 (Dense)              (None, 32)                25120     \n",
      "_________________________________________________________________\n",
      "dense_5 (Dense)              (None, 784)               25872     \n",
      "=================================================================\n",
      "Total params: 50,992\n",
      "Trainable params: 50,992\n",
      "Non-trainable params: 0\n",
      "_________________________________________________________________\n"
     ]
    }
   ],
   "source": [
    "def autoencoder_model(encoding_dim):\n",
    "    input_layer = Input(shape=(784,))\n",
    "    encoder_layer = Dense(encoding_dim, activation='relu')(input_layer)\n",
    "    \n",
    "    decoder_layer1 = Dense(784, activation='sigmoid')(encoder_layer)\n",
    "    autoencoder = Model(inputs=input_layer, outputs=decoder_layer1)\n",
    "\n",
    "    encoder = Model(inputs=input_layer, outputs=encoder_layer)\n",
    "    encoded_input = Input(shape=(encoding_dim,))\n",
    "    decoder_layer = autoencoder.layers[-1]\n",
    "    \n",
    "    decoder = Model(inputs=encoded_input, outputs=decoder_layer(encoded_input))\n",
    "    return autoencoder, encoder, decoder\n",
    "\n",
    "encoding_dim = 32\n",
    "model, encoder, decoder = autoencoder_model(encoding_dim)\n",
    "model.summary()"
   ]
  },
  {
   "cell_type": "code",
   "execution_count": 7,
   "metadata": {},
   "outputs": [],
   "source": [
    "model.compile(optimizer='adadelta', loss='binary_crossentropy')"
   ]
  },
  {
   "cell_type": "code",
   "execution_count": 8,
   "metadata": {},
   "outputs": [
    {
     "name": "stdout",
     "output_type": "stream",
     "text": [
      "Epoch 1/60\n",
      "235/235 [==============================] - 2s 5ms/step - loss: 0.6940 - val_loss: 0.6938\n",
      "Epoch 2/60\n",
      "235/235 [==============================] - 1s 4ms/step - loss: 0.6938 - val_loss: 0.6936\n",
      "Epoch 3/60\n",
      "235/235 [==============================] - 1s 4ms/step - loss: 0.6935 - val_loss: 0.6934\n",
      "Epoch 4/60\n",
      "235/235 [==============================] - 1s 4ms/step - loss: 0.6933 - val_loss: 0.6931\n",
      "Epoch 5/60\n",
      "235/235 [==============================] - 1s 6ms/step - loss: 0.6931 - val_loss: 0.6929\n",
      "Epoch 6/60\n",
      "235/235 [==============================] - 1s 4ms/step - loss: 0.6929 - val_loss: 0.6927\n",
      "Epoch 7/60\n",
      "235/235 [==============================] - 1s 4ms/step - loss: 0.6927 - val_loss: 0.6925\n",
      "Epoch 8/60\n",
      "235/235 [==============================] - 1s 4ms/step - loss: 0.6924 - val_loss: 0.6922\n",
      "Epoch 9/60\n",
      "235/235 [==============================] - 1s 4ms/step - loss: 0.6922 - val_loss: 0.6920\n",
      "Epoch 10/60\n",
      "235/235 [==============================] - 1s 4ms/step - loss: 0.6920 - val_loss: 0.6918\n",
      "Epoch 11/60\n",
      "235/235 [==============================] - 1s 4ms/step - loss: 0.6918 - val_loss: 0.6916\n",
      "Epoch 12/60\n",
      "235/235 [==============================] - 1s 4ms/step - loss: 0.6916 - val_loss: 0.6914\n",
      "Epoch 13/60\n",
      "235/235 [==============================] - 1s 4ms/step - loss: 0.6913 - val_loss: 0.6911\n",
      "Epoch 14/60\n",
      "235/235 [==============================] - 1s 4ms/step - loss: 0.6911 - val_loss: 0.6909\n",
      "Epoch 15/60\n",
      "235/235 [==============================] - 1s 4ms/step - loss: 0.6909 - val_loss: 0.6907\n",
      "Epoch 16/60\n",
      "235/235 [==============================] - 1s 4ms/step - loss: 0.6907 - val_loss: 0.6905\n",
      "Epoch 17/60\n",
      "235/235 [==============================] - 1s 4ms/step - loss: 0.6905 - val_loss: 0.6902\n",
      "Epoch 18/60\n",
      "235/235 [==============================] - 1s 4ms/step - loss: 0.6902 - val_loss: 0.6900\n",
      "Epoch 19/60\n",
      "235/235 [==============================] - 1s 4ms/step - loss: 0.6900 - val_loss: 0.6898\n",
      "Epoch 20/60\n",
      "235/235 [==============================] - 1s 4ms/step - loss: 0.6898 - val_loss: 0.6895\n",
      "Epoch 21/60\n",
      "235/235 [==============================] - 1s 4ms/step - loss: 0.6895 - val_loss: 0.6893\n",
      "Epoch 22/60\n",
      "235/235 [==============================] - 1s 4ms/step - loss: 0.6893 - val_loss: 0.6890\n",
      "Epoch 23/60\n",
      "235/235 [==============================] - 1s 5ms/step - loss: 0.6890 - val_loss: 0.6888\n",
      "Epoch 24/60\n",
      "235/235 [==============================] - 1s 4ms/step - loss: 0.6888 - val_loss: 0.6885\n",
      "Epoch 25/60\n",
      "235/235 [==============================] - 1s 4ms/step - loss: 0.6885 - val_loss: 0.6883\n",
      "Epoch 26/60\n",
      "235/235 [==============================] - 1s 5ms/step - loss: 0.6883 - val_loss: 0.6880\n",
      "Epoch 27/60\n",
      "235/235 [==============================] - 1s 5ms/step - loss: 0.6880 - val_loss: 0.6878\n",
      "Epoch 28/60\n",
      "235/235 [==============================] - 1s 5ms/step - loss: 0.6878 - val_loss: 0.6875\n",
      "Epoch 29/60\n",
      "235/235 [==============================] - 1s 4ms/step - loss: 0.6875 - val_loss: 0.6872\n",
      "Epoch 30/60\n",
      "235/235 [==============================] - 1s 4ms/step - loss: 0.6872 - val_loss: 0.6869\n",
      "Epoch 31/60\n",
      "235/235 [==============================] - 1s 4ms/step - loss: 0.6870 - val_loss: 0.6867\n",
      "Epoch 32/60\n",
      "235/235 [==============================] - 1s 4ms/step - loss: 0.6867 - val_loss: 0.6864\n",
      "Epoch 33/60\n",
      "235/235 [==============================] - 1s 4ms/step - loss: 0.6864 - val_loss: 0.6861\n",
      "Epoch 34/60\n",
      "235/235 [==============================] - 1s 4ms/step - loss: 0.6861 - val_loss: 0.6858\n",
      "Epoch 35/60\n",
      "235/235 [==============================] - 1s 4ms/step - loss: 0.6858 - val_loss: 0.6855\n",
      "Epoch 36/60\n",
      "235/235 [==============================] - 1s 4ms/step - loss: 0.6855 - val_loss: 0.6852\n",
      "Epoch 37/60\n",
      "235/235 [==============================] - 1s 4ms/step - loss: 0.6852 - val_loss: 0.6848\n",
      "Epoch 38/60\n",
      "235/235 [==============================] - 1s 4ms/step - loss: 0.6849 - val_loss: 0.6845\n",
      "Epoch 39/60\n",
      "235/235 [==============================] - 1s 4ms/step - loss: 0.6846 - val_loss: 0.6842\n",
      "Epoch 40/60\n",
      "235/235 [==============================] - 1s 4ms/step - loss: 0.6842 - val_loss: 0.6838\n",
      "Epoch 41/60\n",
      "235/235 [==============================] - 1s 4ms/step - loss: 0.6839 - val_loss: 0.6835\n",
      "Epoch 42/60\n",
      "235/235 [==============================] - 1s 4ms/step - loss: 0.6835 - val_loss: 0.6831\n",
      "Epoch 43/60\n",
      "235/235 [==============================] - 1s 5ms/step - loss: 0.6832 - val_loss: 0.6828\n",
      "Epoch 44/60\n",
      "235/235 [==============================] - 1s 4ms/step - loss: 0.6828 - val_loss: 0.6824\n",
      "Epoch 45/60\n",
      "235/235 [==============================] - 1s 5ms/step - loss: 0.6825 - val_loss: 0.6820\n",
      "Epoch 46/60\n",
      "235/235 [==============================] - 1s 5ms/step - loss: 0.6821 - val_loss: 0.6816\n",
      "Epoch 47/60\n",
      "235/235 [==============================] - 1s 5ms/step - loss: 0.6817 - val_loss: 0.6812\n",
      "Epoch 48/60\n",
      "235/235 [==============================] - 1s 4ms/step - loss: 0.6813 - val_loss: 0.6808\n",
      "Epoch 49/60\n",
      "235/235 [==============================] - 1s 4ms/step - loss: 0.6809 - val_loss: 0.6804\n",
      "Epoch 50/60\n",
      "235/235 [==============================] - 1s 4ms/step - loss: 0.6805 - val_loss: 0.6799\n",
      "Epoch 51/60\n",
      "235/235 [==============================] - 1s 4ms/step - loss: 0.6800 - val_loss: 0.6795\n",
      "Epoch 52/60\n",
      "235/235 [==============================] - 1s 4ms/step - loss: 0.6796 - val_loss: 0.6790\n",
      "Epoch 53/60\n",
      "235/235 [==============================] - 1s 5ms/step - loss: 0.6791 - val_loss: 0.6785\n",
      "Epoch 54/60\n",
      "235/235 [==============================] - 1s 4ms/step - loss: 0.6787 - val_loss: 0.6780\n",
      "Epoch 55/60\n",
      "235/235 [==============================] - 1s 4ms/step - loss: 0.6782 - val_loss: 0.6776\n",
      "Epoch 56/60\n",
      "235/235 [==============================] - 1s 4ms/step - loss: 0.6777 - val_loss: 0.6770\n",
      "Epoch 57/60\n",
      "235/235 [==============================] - 1s 4ms/step - loss: 0.6772 - val_loss: 0.6765\n",
      "Epoch 58/60\n",
      "235/235 [==============================] - 1s 4ms/step - loss: 0.6766 - val_loss: 0.6760\n",
      "Epoch 59/60\n",
      "235/235 [==============================] - 1s 4ms/step - loss: 0.6761 - val_loss: 0.6754\n",
      "Epoch 60/60\n",
      "235/235 [==============================] - 1s 4ms/step - loss: 0.6756 - val_loss: 0.6748\n"
     ]
    }
   ],
   "source": [
    "epochs = 60\n",
    "batch_size = 256\n",
    "history = model.fit(train_images, train_images, \n",
    "                    batch_size=batch_size, \n",
    "                    epochs=epochs, \n",
    "                    shuffle=True,\n",
    "                    validation_data=(test_images, test_images))\n",
    "# score = model.evaluate(X_test, y_test, verbose=1)"
   ]
  },
  {
   "cell_type": "code",
   "execution_count": 10,
   "metadata": {},
   "outputs": [],
   "source": [
    "encoded_imgs = encoder.predict(test_images)\n",
    "decoded_imgs = decoder.predict(encoded_imgs)"
   ]
  },
  {
   "cell_type": "code",
   "execution_count": 13,
   "metadata": {},
   "outputs": [
    {
     "data": {
      "image/png": "[encoded data removed]",
      "text/plain": [
       "<Figure size 1440x288 with 10 Axes>"
      ]
     },
     "metadata": {
      "needs_background": "light"
     },
     "output_type": "display_data"
    }
   ],
   "source": [
    "import matplotlib.pyplot as plt\n",
    "n = 5\n",
    "plt.figure(figsize=(20, 4))\n",
    "for i in range(n):\n",
    "    ax = plt.subplot(2, n, i+1)\n",
    "    plt.imshow(test_images[i].reshape(28,28))\n",
    "    plt.gray()\n",
    "    ax.get_xaxis().set_visible(False)\n",
    "    ax.get_yaxis().set_visible(False)\n",
    "    \n",
    "    ax = plt.subplot(2, n, i+n+1)\n",
    "    plt.imshow(decoded_imgs[i].reshape(28,28))\n",
    "    plt.gray()\n",
    "    ax.get_xaxis().set_visible(False)\n",
    "    ax.get_yaxis().set_visible(False)\n",
    "plt.show()"
   ]
  },
  {
   "cell_type": "code",
   "execution_count": null,
   "metadata": {},
   "outputs": [],
   "source": []
  }
 ],
 "metadata": {
  "kernelspec": {
   "display_name": "Python 3",
   "language": "python",
   "name": "python3"
  },
  "language_info": {
   "codemirror_mode": {
    "name": "ipython",
    "version": 3
   },
   "file_extension": ".py",
   "mimetype": "text/x-python",
   "name": "python",
   "nbconvert_exporter": "python",
   "pygments_lexer": "ipython3",
   "version": "3.7.9"
  }
 },
 "nbformat": 4,
 "nbformat_minor": 4
}
